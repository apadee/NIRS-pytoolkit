{
 "cells": [
  {
   "cell_type": "code",
   "execution_count": 1,
   "metadata": {},
   "outputs": [
    {
     "name": "stderr",
     "output_type": "stream",
     "text": [
      "/home/ap/miniconda3/envs/NIRStoolkit/lib/python3.7/site-packages/nilearn/glm/__init__.py:56: FutureWarning: The nilearn.glm module is experimental. It may change in any future release of Nilearn.\n",
      "  'It may change in any future release of Nilearn.', FutureWarning)\n",
      "/home/ap/miniconda3/envs/NIRStoolkit/lib/python3.7/site-packages/statsmodels/tools/_testing.py:19: FutureWarning: pandas.util.testing is deprecated. Use the functions in the public API at pandas.testing instead.\n",
      "  import pandas.util.testing as tm\n",
      "/home/ap/miniconda3/envs/NIRStoolkit/lib/python3.7/site-packages/vispy/visuals/line/line.py:395: FutureWarning: Passing (type, 1) or '1type' as a synonym of type is deprecated; in a future version of numpy, it will be understood as (type, (1,)) / '(1,)type'.\n",
      "  ('color', np.float32, 4)])\n",
      "/home/ap/miniconda3/envs/NIRStoolkit/lib/python3.7/site-packages/vispy/visuals/line/arrow.py:57: FutureWarning: Passing (type, 1) or '1type' as a synonym of type is deprecated; in a future version of numpy, it will be understood as (type, (1,)) / '(1,)type'.\n",
      "  ('linewidth', np.float32, 1)\n",
      "/home/ap/miniconda3/envs/NIRStoolkit/lib/python3.7/site-packages/vispy/visuals/isocurve.py:22: UserWarning: VisPy is not yet compatible with matplotlib 2.2+\n",
      "  warnings.warn(\"VisPy is not yet compatible with matplotlib 2.2+\")\n"
     ]
    }
   ],
   "source": [
    "import numpy as np\n",
    "from nirs_data_class import nirs_data\n",
    "import matplotlib.pyplot as plt\n",
    "import filter as ft\n",
    "from GLM_NIRS import GLM_NIRS\n",
    "from visbrain.gui import Brain\n",
    "from visbrain.objects import BrainObj, SourceObj, ConnectObj, ColorbarObj, SceneObj\n",
    "from spatial_coordinates import read_coordinates"
   ]
  },
  {
   "cell_type": "code",
   "execution_count": 2,
   "metadata": {},
   "outputs": [
    {
     "name": "stderr",
     "output_type": "stream",
     "text": [
      "INFO:nirs_data:Processing nirs file: /mnt/data/NIRS/data/sub-005/sub-005.nirs\n",
      "INFO:nirs_data:16 sources, 16 detectors found\n",
      "INFO:nirs_data:Sampling frequency: 7.813523650419287 Hz\n",
      "INFO:nirs_data:Absorption coefficients loaded from: extinction_coeff.txt\n",
      "INFO:nirs_data:Delta OD successfully converted to O2Hb and HHb concentraion changes. 41 channels, 7633 timepoints loaded\n",
      "INFO:nirs_data:Recording time: 976.90 s\n"
     ]
    }
   ],
   "source": [
    "filepath = \"/mnt/data/NIRS/data/sub-005/sub-005.nirs\"\n",
    "\n",
    "data = nirs_data()\n",
    "data.default_labels['src'] = ''\n",
    "data.default_labels['det'] = ''\n",
    "data.read_homer2(filepath=filepath)\n",
    "data.paradigm_make_block_design(block_length=20, conditions=[0])"
   ]
  },
  {
   "cell_type": "code",
   "execution_count": 3,
   "metadata": {},
   "outputs": [
    {
     "data": {
      "text/plain": [
       "(41, 7633)"
      ]
     },
     "execution_count": 3,
     "metadata": {},
     "output_type": "execute_result"
    }
   ],
   "source": [
    "time_series = ft.butter_bandpass_filter(data.deoxyChannels, cut_low=0.01, cut_high=0.5, fs=data.fs, order=5)\n",
    "time_series.shape"
   ]
  },
  {
   "cell_type": "code",
   "execution_count": 4,
   "metadata": {},
   "outputs": [],
   "source": [
    "locations, loc_labels, src_coord, rec_coord, ref_coord = read_coordinates('/mnt/data/data/1219denoising/2020-01-20/positions.txt')\n",
    "data.update_spatial_coordinates(src_coord, rec_coord)\n"
   ]
  },
  {
   "cell_type": "code",
   "execution_count": 5,
   "metadata": {},
   "outputs": [],
   "source": [
    "glm = GLM_NIRS()\n",
    "time_series.shape\n",
    "glm.fs = data.fs\n",
    "glm.create_design_matrix(data.trigger_block[:,0], np.atleast_2d(time_series[(20, 40), :]), first_derivative=False, sec_derivative=False)\n",
    "       "
   ]
  },
  {
   "cell_type": "code",
   "execution_count": 6,
   "metadata": {},
   "outputs": [],
   "source": [
    " glm.show_design()"
   ]
  },
  {
   "cell_type": "code",
   "execution_count": 7,
   "metadata": {},
   "outputs": [
    {
     "name": "stdout",
     "output_type": "stream",
     "text": [
      "Deg of freedom:136\n"
     ]
    },
    {
     "name": "stderr",
     "output_type": "stream",
     "text": [
      "/home/ap/miniconda3/envs/NIRStoolkit/lib/python3.7/site-packages/statsmodels/tsa/stattools.py:541: FutureWarning: fft=True will become the default in a future version of statsmodels. To suppress this warning, explicitly set fft=False.\n",
      "  warnings.warn(msg, FutureWarning)\n"
     ]
    }
   ],
   "source": [
    "result_glm = glm.fit(np.delete(time_series, (20, 40), axis=0))\n",
    "result_pval = glm.result_pval\n",
    "result_beta = np.array(result_glm[0][:, 0]).astype(float)\n",
    "result_ttest = np.array(result_glm[2]).astype(float)"
   ]
  },
  {
   "cell_type": "code",
   "execution_count": 8,
   "metadata": {},
   "outputs": [
    {
     "name": "stderr",
     "output_type": "stream",
     "text": [
      "INFO:nirs_data:Channel removal complete. 2 channels removed.\n"
     ]
    }
   ],
   "source": [
    "[ch for ch in data.chLabels[data.short_channels_ind]]\n",
    "data.remove_channels(data.short_channels_ind)"
   ]
  },
  {
   "cell_type": "code",
   "execution_count": 9,
   "metadata": {},
   "outputs": [],
   "source": [
    "order = np.array([ 0, 1,  4,  5,  6,  7,  8,  9, 13, 14, 15, 16, 17, 31, 32, 33, 34, 36, 37, 38, \n",
    "                  22, 23, 24, 25, 26, 27, 28, 29, 30, 35,  2,  3, 10, 11, 12, 18, 19, 20, 21])\n",
    "colors = ['xkcd:violet', 'xkcd:violet', 'xkcd:violet', 'xkcd:violet', 'xkcd:periwinkle', 'xkcd:periwinkle', \n",
    "          'xkcd:periwinkle', 'xkcd:periwinkle', 'xkcd:periwinkle', 'xkcd:lavender', 'xkcd:lavender', \n",
    "          'xkcd:lavender', 'xkcd:lavender', 'xkcd:deep green', 'xkcd:deep green', 'xkcd:deep green', \n",
    "          'xkcd:deep green', 'xkcd:deep green', 'xkcd:deep green', 'xkcd:deep green', 'xkcd:leafy green', \n",
    "          'xkcd:leafy green', 'xkcd:leafy green', 'xkcd:leafy green', 'xkcd:leafy green', 'xkcd:leafy green', \n",
    "          'xkcd:leafy green', 'xkcd:leafy green', 'xkcd:leafy green', 'xkcd:leafy green', 'xkcd:deep blue', \n",
    "          'xkcd:deep blue', 'xkcd:cornflower', 'xkcd:cornflower', 'xkcd:cornflower', 'xkcd:light blue', \n",
    "          'xkcd:light blue', 'xkcd:marigold', 'xkcd:marigold'] \n",
    "legend = {'Frontal left': 'xkcd:violet', 'Frontal center': 'xkcd:periwinkle', 'Frontal right': 'xkcd:lavender', \n",
    "          'Motor left': 'xkcd:deep green', 'Motor center': 'xkcd:leafy green', 'Prefrontal left': \n",
    "          'xkcd:deep blue', 'Prefrontal center': 'xkcd:cornflower', 'Prefrontal right': 'xkcd:light blue', \n",
    "          'Temporal left': 'xkcd:marigold'}\n"
   ]
  },
  {
   "cell_type": "code",
   "execution_count": 10,
   "metadata": {},
   "outputs": [],
   "source": [
    "glm.show_results_bar(mode =\"t-test\", order=order, colors=colors, \n",
    "                     labels=np.array(data.chLabels), color_labels=legend)"
   ]
  },
  {
   "cell_type": "code",
   "execution_count": 11,
   "metadata": {},
   "outputs": [],
   "source": [
    "glm.show_results_bar(mode =\"beta\", order=order, colors=colors, \n",
    "                     labels=np.array(data.chLabels), color_labels=legend)"
   ]
  },
  {
   "cell_type": "code",
   "execution_count": 12,
   "metadata": {},
   "outputs": [
    {
     "data": {
      "text/plain": [
       "array([-0.24785438, -1.69355147, -1.36427416, -1.82416713, -1.08100761,\n",
       "       -1.92670282, -1.24731691, -0.90206448, -0.73909181, -0.53840687,\n",
       "       -1.86596742, -1.32314275, -0.45293242, -1.40000242, -1.0644785 ,\n",
       "       -0.81621735, -0.10086666,  0.38736653,  2.06610299,  0.44052181,\n",
       "        1.66178015,  0.34719125, -0.12229456, -1.06169018, -1.0653156 ,\n",
       "        1.39999954, -0.26045973,  0.35428903,  0.31146354, -0.07435615,\n",
       "        1.25888792,  5.06512015, -0.66059901,  0.53865694,  1.15903625,\n",
       "        5.21622564,  9.01307067,  3.19845116,  1.84492727])"
      ]
     },
     "execution_count": 12,
     "metadata": {},
     "output_type": "execute_result"
    }
   ],
   "source": [
    "import matplotlib\n",
    "matplotlib.use(\"Qt5Agg\")"
   ]
  },
  {
   "cell_type": "code",
   "execution_count": 15,
   "metadata": {},
   "outputs": [
    {
     "name": "stderr",
     "output_type": "stream",
     "text": [
      "Creation of a scene\n",
      "\u001b[1;37mINFO\u001b[0m:visbrain:Creation of a scene\n"
     ]
    }
   ],
   "source": [
    "sc = SceneObj(size=(1600, 1000))\n",
    "kwargs = {}\n",
    "kwargs['color'] = \"magenta\"\n",
    "kwargs['alpha'] = 0.7\n",
    "kwargs['data'] = result_ttest\n",
    "kwargs['radius_min'] = 20               # Minimum radius\n",
    "kwargs['radius_max'] = 21              # Maximum radius\n",
    "kwargs['edge_color'] = (1, 1, 1, 0.5)  # Color of the edges\n",
    "kwargs['edge_width'] = .5              # Width of the edges\n",
    "kwargs['symbol'] = 'o'            # Source's symbol\n",
    "kwargs['text_size'] = 10.0\n",
    "kwargs['text'] = data.chLabels\n",
    "kwargs['clim'] = (-10, 10)\n",
    "cb_kw = dict(cblabel=\"Task related activation\", cbtxtsz=3., border=False, cmap='seismic',\n",
    "             clim=(-10, 10))\n",
    "\n",
    "xyz = data.xyz"
   ]
  },
  {
   "cell_type": "code",
   "execution_count": 16,
   "metadata": {},
   "outputs": [
    {
     "name": "stderr",
     "output_type": "stream",
     "text": [
      "SourceObj(name='Sobj') created\n",
      "\u001b[1;37mINFO\u001b[0m:visbrain:SourceObj(name='Sobj') created\n",
      "    39 sources detected\n",
      "\u001b[1;37mINFO\u001b[0m:visbrain:    39 sources detected\n",
      "/home/ap/miniconda3/envs/NIRStoolkit/lib/python3.7/site-packages/vispy/visuals/markers.py:560: FutureWarning: Passing (type, 1) or '1type' as a synonym of type is deprecated; in a future version of numpy, it will be understood as (type, (1,)) / '(1,)type'.\n",
      "  ('a_edgewidth', np.float32, 1)])\n",
      "    Color Sobj using a data vector\n",
      "\u001b[1;37mINFO\u001b[0m:visbrain:    Color Sobj using a data vector\n",
      "BrainObj(name='B2') created\n",
      "\u001b[1;37mINFO\u001b[0m:visbrain:BrainObj(name='B2') created\n",
      "/home/ap/miniconda3/envs/NIRStoolkit/lib/python3.7/site-packages/vispy/gloo/buffer.py:454: FutureWarning: Passing (type, 1) or '1type' as a synonym of type is deprecated; in a future version of numpy, it will be understood as (type, (1,)) / '(1,)type'.\n",
      "  data = data.view(dtype=[('f0', data.dtype.base, c)])\n",
      "SourceObj(name='Sobj') created\n",
      "\u001b[1;37mINFO\u001b[0m:visbrain:SourceObj(name='Sobj') created\n",
      "    39 sources detected\n",
      "\u001b[1;37mINFO\u001b[0m:visbrain:    39 sources detected\n",
      "    Color Sobj using a data vector\n",
      "\u001b[1;37mINFO\u001b[0m:visbrain:    Color Sobj using a data vector\n",
      "    Project the source's modulation (radius=10.0, contribute=False)\n",
      "\u001b[1;37mINFO\u001b[0m:visbrain:    Project the source's modulation (radius=10.0, contribute=False)\n",
      "    39 sources visibles and not masked used for the projection\n",
      "\u001b[1;37mINFO\u001b[0m:visbrain:    39 sources visibles and not masked used for the projection\n",
      "VolumeObj(name='brodmann') created\n",
      "\u001b[1;37mINFO\u001b[0m:visbrain:VolumeObj(name='brodmann') created\n",
      "RoiObj(name='brodmann') created\n",
      "\u001b[1;37mINFO\u001b[0m:visbrain:RoiObj(name='brodmann') created\n",
      "    brodmann ROI loaded.\n",
      "\u001b[1;37mINFO\u001b[0m:visbrain:    brodmann ROI loaded.\n",
      "CrossSecObj(name='brodmann') created\n",
      "\u001b[1;37mINFO\u001b[0m:visbrain:CrossSecObj(name='brodmann') created\n"
     ]
    }
   ],
   "source": [
    "s_obj = SourceObj('Sobj', xyz, **kwargs)\n",
    "s_obj.color_sources(data=result_ttest, cmap='seismic')\n",
    "\n",
    "b_obj = BrainObj('B2', **cb_kw)\n",
    "\n",
    "b_obj_vert = b_obj.vertices\n",
    "s_obj.fit_to_vertices(b_obj_vert)\n",
    "\n",
    "fitted_coord = s_obj._sources._data['a_position']\n",
    "s1_obj = SourceObj('Sobj', fitted_coord * 0.95, **kwargs)\n",
    "s1_obj.color_sources(data=result_ttest, cmap='seismic')\n",
    "s1_obj.project_sources(b_obj, cmap='seismic', clim=(-10, 10))\n",
    "\n",
    "vb = Brain(source_obj=s1_obj, brain_obj=b_obj, bgcolor='lightblue') #connect_obj=c_obj,\n",
    "vb.brain_control(translucent=False)\n",
    "vb.menuDispCbar.setChecked(True)\n",
    "vb.rotate('axial_0')\n",
    "vb.show()"
   ]
  }
 ],
 "metadata": {
  "kernelspec": {
   "display_name": "Python 3",
   "language": "python",
   "name": "python3"
  },
  "language_info": {
   "codemirror_mode": {
    "name": "ipython",
    "version": 3
   },
   "file_extension": ".py",
   "mimetype": "text/x-python",
   "name": "python",
   "nbconvert_exporter": "python",
   "pygments_lexer": "ipython3",
   "version": "3.7.6"
  }
 },
 "nbformat": 4,
 "nbformat_minor": 4
}
